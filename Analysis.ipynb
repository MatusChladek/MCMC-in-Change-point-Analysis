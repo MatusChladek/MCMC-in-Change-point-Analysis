{
 "cells": [
  {
   "cell_type": "markdown",
   "metadata": {},
   "source": [
    "## The Poisson process\n",
    "\n",
    "A Poisson process is the continuous version of a\n",
    "Bernoulli process. In a Bernoulli process, time is\n",
    "discrete, and at each time unit there is a certain\n",
    "probability $p$ that success occurs, the same probability\n",
    "at any given time, and the events at one time\n",
    "are independent of the events at other time\n",
    "instants.\n",
    "In a Poisson process, time is continuous, and\n",
    "there is a certain rate $\\lambda$ of events occurring per\n",
    "unit time that is the same for any time interval, and\n",
    "events occur independently of each other.\n",
    "\n",
    "As in a Bernoulli process, you can ask various\n",
    "questions about a Poisson process, and the answers\n",
    "will have various distributions. If you ask\n",
    "how many events occur in an interval of length t,\n",
    "then the answer will have a Poisson distribution,\n",
    "$POISSON(\\lambda t)$ with pdf: $$f(x)=P\\left( x \\right) = \\frac{{e^{ - \\lambda t } (\\lambda t)^x }}{{x!}}\\qquad for \\quad x=0,1...$$\n",
    "\n",
    "If you ask how long until the first event occurs,\n",
    "then the answer will have an exponential distribution,\n",
    "$EXPONENTIAL(\\lambda)$, with pdf: $$\n",
    "f(x) = \\lambda e ^ {- \\lambda x } \\qquad for \\quad x > 0,\\:\\lambda > 0$$.\n",
    "\n",
    "In our case we will be interested in how long it takes until the $r^{th}$ event. Using memoryless property, from every arrival to the next one we have iid distribution of $EXPONENTIAL(\\lambda)$, which will be $GAMMA(\\alpha,\\beta)$ as continuous extension of $NB(r,p)$.There are a couple different ways that gamma distributions are parametrized-either in terms of $\\lambda$ and $r$, or in terms of $\\alpha$ and $\\beta$ as is done here. The connection is $\\alpha=r$, and $\\beta=\\frac{1}{\\lambda}$,\n",
    "which is the expected time to the first event in a Poisson process.The probability density function\n",
    "for a gamma distribution is  $$f(x)=\\frac{{\\beta}^{\\alpha}{x}^{(\\alpha-1)}e^{-({x\\beta})}}{\\Gamma(\\alpha)}\\qquad for \\quad x > 0,\\:\\alpha>0,\\:\\beta > 0$$The mean of a gamma distribution is $\\frac{\\alpha}{\\beta}$ while its variance is $\\frac{\\alpha}{\\beta^2}$\n",
    "\n",
    "Our job is to get information about this parameter\n",
    "$\\lambda$. Using the Bayesian approach, we have a\n",
    "prior density function $f(\\lambda)$ on $\\lambda$. The\n",
    "posterior density function is proportional to a conditional\n",
    "probability times the prior density function\n",
    "$$f(\\lambda|y)\\propto P(y|\\lambda)f(\\lambda)$$\n",
    "<br><br>"
   ]
  },
  {
   "cell_type": "markdown",
   "metadata": {},
   "source": [
    "**Finding a family of conjugate priors.**\n",
    "\n",
    "In order to find the posterior we need to determine what the prior $f(\\lambda)$ should be.Common approach in Bayesian analysis is to think about what would be the conjugate prior for this model.Idea is to just consider the likelihood ( a function of $\\lambda$) only $$P(y|\\lambda)=\\prod_{i=1}^{n}\\frac{{\\lambda^{y_{i}}}e^{-\\lambda}}{{y{}_{i}!}}\\\\\n",
    "\\propto \\quad \\lambda^{\\overline{ny}}e^{-n\\lambda}\\\\\n",
    "$$\n",
    "Key thing now is to recognize that this looks like kernel of the $GAMMA$ distribution.So if $\\lambda$ $\\sim$ $GAMMA(\\alpha,\\beta)$ then $$f(\\lambda|y)\\propto P(y|\\lambda)f(\\lambda)\\\\\n",
    "\\propto \\lambda^{\\overline{ny}}e^{-n\\lambda}\\lambda^{\\alpha-1}e^{-\\beta\\lambda}\\\\\n",
    "=\\lambda^{\\alpha+\\overline{ny}-1}e^{-(\\beta+n)}$$\n",
    "i.e. $\\lambda|y\\;\\sim\\;GAMMA(\\alpha+\\overline{ny},\\beta+n)$ where <br>\n",
    "<ul>\n",
    "  <li>$\\beta$ represents the number of prior 'observations'</li>\n",
    "  <li>$\\alpha$ represents the sum of total individuals observed</li>\n",
    "</ul>\n",
    "\n",
    "\n",
    "More generally, the prior distribution can be any gamma distribution $GAMMA(\\alpha_{0},\\beta_{0})$.Then if $k$ successes are observed in time $t$, the posterior distribution will also be a gamma distribution, namely $GAMMA(\\alpha_{0}+k,\\beta_{0}+t)$.Thus, a family of conjugate priors for the Poisson process parameter $\\lambda$ is the family of gamma distributions."
   ]
  },
  {
   "cell_type": "markdown",
   "metadata": {},
   "source": [
    "## Problem and model description\n",
    "Our example uses a dataset from the Chandra Orion Ultradeep Project (COUP) which captures data from X-ray telescope tracking acceleration of particles caused by explosive releases on stars in the space.\n",
    "\n",
    "The raw data, which arrives approximately according to a Poisson process, gives the individual photon arrival times (in seconds) and their energies (in keV). The processed data we consider here is obtained by grouping the events into evenly-spaced time bins (10,000 seconds width).\n",
    "\n",
    "Our goal for this data analysis is to identify the change point and estimate the intensities of the Poisson process before and after the change point."
   ]
  },
  {
   "cell_type": "code",
   "execution_count": 2,
   "metadata": {},
   "outputs": [
    {
     "data": {
      "text/html": [
       "<table>\n",
       "<thead><tr><th scope=col>X0</th><th scope=col>X11</th></tr></thead>\n",
       "<tbody>\n",
       "\t<tr><td>1</td><td>3</td></tr>\n",
       "\t<tr><td>2</td><td>5</td></tr>\n",
       "\t<tr><td>3</td><td>9</td></tr>\n",
       "\t<tr><td>4</td><td>3</td></tr>\n",
       "\t<tr><td>5</td><td>4</td></tr>\n",
       "\t<tr><td>6</td><td>5</td></tr>\n",
       "</tbody>\n",
       "</table>\n"
      ],
      "text/latex": [
       "\\begin{tabular}{r|ll}\n",
       " X0 & X11\\\\\n",
       "\\hline\n",
       "\t 1 & 3\\\\\n",
       "\t 2 & 5\\\\\n",
       "\t 3 & 9\\\\\n",
       "\t 4 & 3\\\\\n",
       "\t 5 & 4\\\\\n",
       "\t 6 & 5\\\\\n",
       "\\end{tabular}\n"
      ],
      "text/markdown": [
       "\n",
       "X0 | X11 | \n",
       "|---|---|---|---|---|---|\n",
       "| 1 | 3 | \n",
       "| 2 | 5 | \n",
       "| 3 | 9 | \n",
       "| 4 | 3 | \n",
       "| 5 | 4 | \n",
       "| 6 | 5 | \n",
       "\n",
       "\n"
      ],
      "text/plain": [
       "  X0 X11\n",
       "1 1  3  \n",
       "2 2  5  \n",
       "3 3  9  \n",
       "4 4  3  \n",
       "5 5  4  \n",
       "6 6  5  "
      ]
     },
     "metadata": {},
     "output_type": "display_data"
    }
   ],
   "source": [
    "library(ggplot2)\n",
    "set.seed(42)\n",
    "chptdat <- read.table(\"COUP551_rates.dat\",skip=1, head=T)\n",
    "#Tbin = 10,000 sec width)#\n",
    "head(chptdat)"
   ]
  },
  {
   "cell_type": "markdown",
   "metadata": {},
   "source": [
    "The process is observed for times 1 through $n$ and we assume that there is a change at time $k$, i.e., after time $k$, the event counts are significantly different (higher or lower than before).\n",
    "\n",
    "**Selecting the prior distribution.** So we already agreed on family distribution of our prior but what are the actual $\\alpha$ and $\\beta$ we should use. One possibility is that you have a prior notion for the mean $\\mu$ and variance $\\sigma^2$ of $\\lambda$ based on mean and variance formulas of Gamma we already proposed.But what if we have no prior information.That's like saying we had no successes in no time or taking $GAMMA(0,0)$ as a prior for $\\lambda$.Why this is 'valid' distribution we will comment later on.Although we have no information on the prior we can actually do better using Jeffrey's prior which is more robust with respect to re-parametrization or (most of) transformations on the parameter space.\n",
    "\n",
    "Jeffreys' prior is $p(\\lambda)$ $\\propto \\: \\sqrt{I(\\lambda)}$ where $I(\\lambda)$ is the Fisher information.\n",
    "$$I(\\lambda)=-E[\\frac{d^2logp(y|\\lambda)}{d\\lambda^2}|\\lambda]\\\\\n",
    "...\\\\\n",
    "E[\\frac{y}{\\lambda^2}|\\lambda]=\\frac{\\lambda}{\\lambda^2}=\\frac{1}{\\lambda}\\\\\n",
    "\\sqrt{I(\\lambda)}=\\frac{1}{\\sqrt\\lambda}\n",
    "$$\n",
    "\n",
    "which is equivalent to the improper $GAMMA(1/2,0)$ which will on the other hand act like  proper distribution in updating according to rules we have proposed previously."
   ]
  },
  {
   "cell_type": "markdown",
   "metadata": {},
   "source": [
    "### Model.\n",
    "So we will consider the following hierarchical changepoint model for the number of occurrences $Y_{i}$ of some event during time interval $i$ with change point $k$\n",
    "$$Y_{i}|k,\\theta,\\lambda \\sim Poisson(\\theta) \\: for \\: i=1,..,k\\\\\n",
    "Y_{i}|k,\\theta,\\lambda \\sim Poisson(\\lambda) \\: for \\: i=k+1,..,n\\\\\n",
    "$$\n",
    "\n",
    "Assuming the following prior distributions:\n",
    "$$\\theta|b{_1}\\sim Gamma(0.5,b{_1})\\\\\n",
    "\\lambda|b{_2}\\sim Gamma(0.5,b{_1})\\\\\n",
    "b_{1}\\sim IG(0,1)\\\\\n",
    "b_{2}\\sim IG(0,1)\\\\\n",
    "k\\sim Uniform(1,...,n)\n",
    "$$\n",
    "$k,\\theta,\\lambda$ are conditionally independent and $b{_1},b{_2}$ are independent. Note that if $X\\sim Gamma(\\alpha,\\beta)$ then $\\frac{1}{X}\\sim IG(\\alpha,\\beta)$ where $IG$ stands for Inverse Gamma distribution.The Inverse Gamma density is said to be a conjugate prior in this case since it results in a posterior that is also Inverse Gamma and therefore trivial to sample. As such, this density is mathematically convenient (due to its conjugacy property and relationship with Gamma distribution).\n",
    "\n",
    "Our goal will be to draw samples from the 5-dimensional posterior distribution $f(k,\\theta,\\lambda,b_{1},b_{2}|Y)$ The posterior distribution is\n",
    "$$f(k,\\theta,\\lambda,b_{1},b_{2}|Y) \\propto \\prod^{k}_{i=1}\\frac{\\theta^{Y_{i}}e^{-\\theta}}{Y_{i}!}\n",
    "\\prod^{n}_{i=k+1}\\frac{\\lambda^{Y_{i}}e^{-\\lambda}}{Y_{i}!}\\\\\n",
    "\\times \\frac{\\theta^{-0.5}e^{-\\theta/b_{1}}}{\\Gamma(0.5)b_{1}}\n",
    "\\frac{\\lambda^{-0.5}e^{-\\lambda/b_{2}}}{\\Gamma(0.5)b_{2}}\\\\\n",
    "\\times \\frac{e^{-1/b_{1}}}{b_{1}}\n",
    "\\frac{e^{-1/b_{2}}}{b_{2}}\\\\\n",
    "\\times \\frac{1}{n}\n",
    "$$\n",
    "\n",
    "Formula is just proportionate to exact distribution because the\n",
    "missing constant (the normalizing constant) can only be computed by integrating\n",
    "the above function. Fortunately, the Metropolis-Hastings algorithm\n",
    "does not require knowledge of this normalizing constant.\n",
    "\n",
    "From posterior distribution we can obtain full conditional distributions for each parameter by ignoring all terms that are constant with respect to the parameter. Sometimes these full conditional distributions are well known distributions such\n",
    "as the Gamma or Normal in which case we can perform Gibbs updates on them. However, the full conditional for $k$ is not a standard distribution so we need to use the more general Metropolis-Hastings update instead of a Gibbs update.\n",
    "\n",
    "\n",
    "Full conditional for $\\theta$:\n",
    "$$f(\\theta|k,\\lambda,b_{1},b_{2},Y) \\propto Gamma(\\sum_{i=1}^{k}Y_{i}+0.5,\\frac{b_{1}}{kb_{1}+1})$$\n",
    "\n",
    "Full conditional for $\\lambda$:\n",
    "$$f(\\lambda|k,\\theta,b_{1},b_{2},Y) \\propto Gamma(\\sum_{i=k+1}^{n}Y_{i}+0.5,\\frac{b_{2}}{(n-k)b_{2}+1})$$\n",
    "\n",
    "Full conditional for $k$:\n",
    "$$f(k|\\lambda,\\theta,b_{1},b_{2},Y) \\propto \\prod^{k}_{i=1}\\frac{\\theta^{Y_{i}}e^{-\\theta}}{Y_{i}!}\n",
    "\\prod^{n}_{i=k+1}\\frac{\\lambda^{Y_{i}}e^{-\\lambda}}{Y_{i}!}$$\n",
    "\n",
    "\n",
    "Full conditional for $b_{1}$:\n",
    "$$f(b_{1}|k,\\lambda,\\theta,b_{2},Y) \\propto IG(0.5,1/(\\theta+1))$$\n",
    "\n",
    "Full conditional for $b_{2}$:\n",
    "$$f(b_{2}|k,\\lambda,\\theta,b_{1},Y) \\propto IG(0.5,1/(\\lambda+1))$$\n",
    "\n",
    "We are now in a position to run the Metropolis-Hastings algorithm.\n",
    "\n",
    "1.Pick a starting value for the Markov chain, say $(\\theta^0,\\lambda^0,k^0,b{_1}^0,b{_2}^0)=(1,1,20,1,1)$<br>\n",
    "2. 'Update' each variable in turn:\n",
    "<ul>\n",
    "  <li>sample $\\theta^i\\sim f(\\theta|k,\\lambda,b{_1},b{_2},Y)$ using the most upto date values of $k,\\lambda,b{_1},b{_2}$ in Gibbs update\n",
    "  <li>sample $\\lambda^i\\sim f(\\lambda|k,\\theta,b{_1},b{_2},Y)$ using the most upto date values of $k,\\theta,b{_1},b{_2}$ in Gibbs update (note you will use sampled $\\theta^i$)\n",
    "  <li>sample $b{_1}^i\\sim f(b{_1}|k,\\theta,\\lambda,b{_2},Y)$ using the most upto date values of $k,\\theta,\\lambda,b{_2}$ in Gibbs update (note you will use sampled $\\theta^i,\\lambda^i$)\n",
    "  <li>sample $b{_2}^i\\sim f(b{_2}|k,\\theta,\\lambda,b{_1},Y)$ using the most upto date values of $k,\\theta,\\lambda,b{_1}$ in Gibbs update (note you will use sampled $\\theta^i,\\lambda^i,b{_1}^i$)\n",
    "  <li>sample $k^i\\sim f(k|\\theta,\\lambda,b{_1},b{_2},Y)$ using the most upto date values of $\\theta,\\lambda,b{_1},b{_2}$ (note you will use sampled $\\theta^i,\\lambda^i,b{_1}^i,b{_2}^i$) This requires Metropolis-Hastings update.\n",
    "  <ul>\n",
    "  <li>Propose a new value for $k$,$k*$ according to a proposal distribution say $q(k|\\theta,\\lambda,b{_1},b{_2},Y)$.In our example we pick $q(k|\\theta,\\lambda,b{_1},b{_2},Y)=Unif(2,...,m-1)$ where m is the length of the vector (time series) $Y$\n",
    "  <li>Compute the Metropolis-Hastings accept-reject ratio,\n",
    "  $$\\alpha(k,k*)=min(1,\\frac{f(k*)}{f(k)})$$\n",
    "  <li>Accept the new value $k*$ with probability $\\alpha(k,k*)$ otherwise reject $k*$ and $k$ remains same.\n",
    "  </ul>\n",
    "  <li>We now have new Markov chain state $(\\theta^1,\\lambda^1,k^1,b{_1}^1,b{_2}^1)$\n",
    "</ul>\n",
    "3.return to step #2 $N-1$ times ot produce Markov chain of length $N$\n",
    "\n",
    "\n",
    "<br><br>"
   ]
  },
  {
   "cell_type": "markdown",
   "metadata": {},
   "source": [
    "### Analysis.\n",
    "We will start with simple exploratory analysis.Plot suggests that changepoint could be 10."
   ]
  },
  {
   "cell_type": "code",
   "execution_count": 4,
   "metadata": {},
   "outputs": [
    {
     "data": {},
     "metadata": {},
     "output_type": "display_data"
    },
    {
     "data": {
      "image/png": "[encoded data removed]",
      "text/plain": [
       "plot without title"
      ]
     },
     "metadata": {},
     "output_type": "display_data"
    }
   ],
   "source": [
    "Y <- chptdat[,2] # store data in Y\n",
    "library(repr)\n",
    "options(repr.plot.width=6, repr.plot.height=4)\n",
    "   ggplot(data=chptdat,aes(x=seq_along(chptdat[,2]),y=chptdat[,2]))+\n",
    "        geom_line(colour=\"dodgerblue4\",size=.8)+xlab(\"Time\")+\n",
    "        ylab(\"\")+ggtitle(\"Time series plot of change point data\")+\n",
    "        theme_minimal()+theme(plot.title = element_text(hjust = 0.5))"
   ]
  },
  {
   "cell_type": "code",
   "execution_count": 5,
   "metadata": {},
   "outputs": [
    {
     "name": "stdout",
     "output_type": "stream",
     "text": [
      "n= 45 \n",
      "Markov chain algorithm ran for  10000 iterations (acc.rate for k= 0.05850585 )\n",
      "Parameters are in order: theta, lambda, k, b1, b2\n"
     ]
    },
    {
     "data": {
      "text/html": [
       "<ol class=list-inline>\n",
       "\t<li>4.9593</li>\n",
       "\t<li>8.9328</li>\n",
       "\t<li>8.7517</li>\n",
       "\t<li>299720.398</li>\n",
       "\t<li>93681.5672</li>\n",
       "</ol>\n"
      ],
      "text/latex": [
       "\\begin{enumerate*}\n",
       "\\item 4.9593\n",
       "\\item 8.9328\n",
       "\\item 8.7517\n",
       "\\item 299720.398\n",
       "\\item 93681.5672\n",
       "\\end{enumerate*}\n"
      ],
      "text/markdown": [
       "1. 4.9593\n",
       "2. 8.9328\n",
       "3. 8.7517\n",
       "4. 299720.398\n",
       "5. 93681.5672\n",
       "\n",
       "\n"
      ],
      "text/plain": [
       "[1]      4.9593      8.9328      8.7517 299720.3980  93681.5672"
      ]
     },
     "metadata": {},
     "output_type": "display_data"
    },
    {
     "data": {
      "text/html": [
       "<ol class=list-inline>\n",
       "\t<li>4.8911</li>\n",
       "\t<li>8.9348</li>\n",
       "\t<li>9</li>\n",
       "\t<li>26.1022</li>\n",
       "\t<li>42.7636</li>\n",
       "</ol>\n"
      ],
      "text/latex": [
       "\\begin{enumerate*}\n",
       "\\item 4.8911\n",
       "\\item 8.9348\n",
       "\\item 9\n",
       "\\item 26.1022\n",
       "\\item 42.7636\n",
       "\\end{enumerate*}\n"
      ],
      "text/markdown": [
       "1. 4.8911\n",
       "2. 8.9348\n",
       "3. 9\n",
       "4. 26.1022\n",
       "5. 42.7636\n",
       "\n",
       "\n"
      ],
      "text/plain": [
       "[1]  4.8911  8.9348  9.0000 26.1022 42.7636"
      ]
     },
     "metadata": {},
     "output_type": "display_data"
    },
    {
     "data": {
      "image/png": "[encoded data removed]",
      "text/plain": [
       "Plot with title \"smoothed density plot for theta posterior\""
      ]
     },
     "metadata": {},
     "output_type": "display_data"
    },
    {
     "data": {
      "image/png": "[encoded data removed]",
      "text/plain": [
       "Plot with title \"smoothed density plot for lambda posterior\""
      ]
     },
     "metadata": {},
     "output_type": "display_data"
    },
    {
     "data": {
      "text/html": [
       "0.0234"
      ],
      "text/latex": [
       "0.0234"
      ],
      "text/markdown": [
       "0.0234"
      ],
      "text/plain": [
       "[1] 0.0234"
      ]
     },
     "metadata": {},
     "output_type": "display_data"
    },
    {
     "name": "stdout",
     "output_type": "stream",
     "text": [
      "n= 45 \n",
      "Markov chain algorithm ran for  10000 iterations (acc.rate for k= 0 )\n",
      "Parameters are in order: theta, lambda, k, b1, b2\n"
     ]
    },
    {
     "data": {
      "text/html": [
       "<ol class=list-inline>\n",
       "\t<li>5.7219</li>\n",
       "\t<li>8.8809</li>\n",
       "\t<li>10.0012</li>\n",
       "\t<li>173144.8863</li>\n",
       "\t<li>332012.232</li>\n",
       "</ol>\n"
      ],
      "text/latex": [
       "\\begin{enumerate*}\n",
       "\\item 5.7219\n",
       "\\item 8.8809\n",
       "\\item 10.0012\n",
       "\\item 173144.8863\n",
       "\\item 332012.232\n",
       "\\end{enumerate*}\n"
      ],
      "text/markdown": [
       "1. 5.7219\n",
       "2. 8.8809\n",
       "3. 10.0012\n",
       "4. 173144.8863\n",
       "5. 332012.232\n",
       "\n",
       "\n"
      ],
      "text/plain": [
       "[1]      5.7219      8.8809     10.0012 173144.8863 332012.2320"
      ]
     },
     "metadata": {},
     "output_type": "display_data"
    },
    {
     "data": {
      "text/html": [
       "<ol class=list-inline>\n",
       "\t<li>5.6812</li>\n",
       "\t<li>8.866</li>\n",
       "\t<li>10</li>\n",
       "\t<li>29.237</li>\n",
       "\t<li>43.6267</li>\n",
       "</ol>\n"
      ],
      "text/latex": [
       "\\begin{enumerate*}\n",
       "\\item 5.6812\n",
       "\\item 8.866\n",
       "\\item 10\n",
       "\\item 29.237\n",
       "\\item 43.6267\n",
       "\\end{enumerate*}\n"
      ],
      "text/markdown": [
       "1. 5.6812\n",
       "2. 8.866\n",
       "3. 10\n",
       "4. 29.237\n",
       "5. 43.6267\n",
       "\n",
       "\n"
      ],
      "text/plain": [
       "[1]  5.6812  8.8660 10.0000 29.2370 43.6267"
      ]
     },
     "metadata": {},
     "output_type": "display_data"
    },
    {
     "data": {
      "image/png": "[encoded data removed]",
      "text/plain": [
       "Plot with title \"smoothed density plot for k posterior\""
      ]
     },
     "metadata": {},
     "output_type": "display_data"
    }
   ],
   "source": [
    "source(\"MCMCsampler.R\")\n",
    "mchain <- mhsampler(NUMIT=10000,dat=Y)\n",
    "\n",
    "round(apply(mchain,1,mean),4) # compute means by row (for all parameters at once)\n",
    "round(apply(mchain,1,median),4) # compute medians by row (for all parameters at once)\n",
    "#To obtain an estimate of the entire posterior distribution:\n",
    " plot(density(mchain[1,]),main=\"smoothed density plot for theta posterior\")\n",
    " plot(density(mchain[2,]),main=\"smoothed density plot for lambda posterior\")\n",
    " plot(density(mchain[3,]),main=\"smoothed density plot for k posterior\",xlim=c(9.5,10.5))\n",
    "\n",
    "#To find the (posterior) probability that lambda is greater than 10\n",
    " sum(mchain[2,]>10)/length(mchain[2,])\n",
    "\n",
    "\n",
    " #With k fixed to 10\n",
    " mchain <- mhsampler(NUMIT=10000,dat=Y,kfixed=TRUE)\n",
    "  round(apply(mchain,1,mean),4) # compute means by row (for all parameters at once)\n",
    "  round(apply(mchain,1,median),4) # compute medians by row (for all parameters at once)\n"
   ]
  },
  {
   "cell_type": "markdown",
   "metadata": {},
   "source": [
    "### Sources\n",
    "* (1) RIZZO, Maria L. Statistical computing with R. CRC Press, (2007).\n",
    "* (2) Carlin & Louis. Bayes and Empirical Bayes Methods for Data Analysis, (2000).\n",
    "* (3) Haran & Getman. A Markov chain Monte Carlo example, Dept. of Statistics  Penn State University\n",
    "* (4) D. Joyce. A short introduction to Bayesian statistics, part III (Fall 2014)\n",
    "* (5) Jarad Niemi. Bayesian inference for Poisson data, Iowa State University (2013)\n",
    "* (6) Patrick Lam. MCMC Methods: Gibbs Sampling and the Metropolis-Hastings Algorithm, Harvard Institute for Quantitative Social Science (2013)\n",
    "* (7) Breheny. MCMC Methods: Gibbs and Metropolis, Dept. of Statistics University of Kentucky"
   ]
  }
 ],
 "metadata": {
  "kernelspec": {
   "display_name": "R",
   "language": "R",
   "name": "ir"
  },
  "language_info": {
   "codemirror_mode": "r",
   "file_extension": ".r",
   "mimetype": "text/x-r-source",
   "name": "R",
   "pygments_lexer": "r",
   "version": "3.4.2"
  }
 },
 "nbformat": 4,
 "nbformat_minor": 2
}
